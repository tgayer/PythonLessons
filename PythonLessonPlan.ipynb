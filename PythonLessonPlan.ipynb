{
 "cells": [
  {
   "cell_type": "markdown",
   "metadata": {},
   "source": [
    "# Intro to python"
   ]
  },
  {
   "cell_type": "markdown",
   "metadata": {},
   "source": [
    "I will be using Jupyter Notebooks for this python session. Other things you can code python in are:\n",
    "\n",
    "* Text editors (code must be run in your command line)\n",
    "\n",
    "    - Vim\n",
    "    - Sublime\n",
    "    - Notepad ++\n",
    "    - Emacs\n",
    "    \n",
    "* IDE's (code can be written and run in the same environment)\n",
    "\n",
    "    - Spyder\n",
    "    - Pycharm\n",
    "    - IDLE\n",
    "    \n",
    "* Online environments (same as IDE's but you can access your code on any device)\n",
    "\n",
    "    - Jupyter notebooks\n",
    "    - Google Colab\n",
    "\n",
    "I recommend downloading the Anaconda distribution of python. It comes with Spyder and Jupyter notebooks and other helpful software. Anaconda also comes with certain external libraries (numpy, sympy, etc.)."
   ]
  },
  {
   "cell_type": "markdown",
   "metadata": {
    "heading_collapsed": true
   },
   "source": [
    "## Data Types"
   ]
  },
  {
   "cell_type": "markdown",
   "metadata": {
    "hidden": true
   },
   "source": [
    "```python\n",
    "# the important ones\n",
    "\n",
    "# integer\n",
    "myInteger = 1\n",
    "\n",
    "# float\n",
    "myFloat = 1.0\n",
    "\n",
    "# strings\n",
    "myString = \"Hello World!\"\n",
    "\n",
    "# python containers\n",
    "\n",
    "# lists\n",
    "myList = [1, 2]\n",
    "\n",
    "# tuple (immutable list)\n",
    "myTuple = (1, 2)\n",
    "\n",
    "# dictionaries\n",
    "myDict = {a: 1, b: 2}\n",
    "myDict[a]\n",
    "\n",
    "# changing data types\n",
    "myInteger = float(myInteger)\n",
    "```"
   ]
  },
  {
   "cell_type": "markdown",
   "metadata": {
    "hidden": true
   },
   "source": [
    "``` python\n",
    "# floating point error\n",
    "1.2-1.0\n",
    "```"
   ]
  },
  {
   "cell_type": "markdown",
   "metadata": {
    "heading_collapsed": true
   },
   "source": [
    "## Types of Algorithmic Constructions"
   ]
  },
  {
   "cell_type": "markdown",
   "metadata": {
    "heading_collapsed": true,
    "hidden": true
   },
   "source": [
    "### Commands"
   ]
  },
  {
   "cell_type": "markdown",
   "metadata": {
    "hidden": true
   },
   "source": [
    "```python\n",
    "# it just does it\n",
    "\n",
    "import math\n",
    "\n",
    "x = 5\n",
    "\n",
    "# math operations\n",
    "3+3 #addition\n",
    "\n",
    "3-3 #subtraction\n",
    "\n",
    "3*3 #multiplication\n",
    "\n",
    "3/3 #float division\n",
    "\n",
    "3//3 #integer division\n",
    "\n",
    "3**3 #exponentiation\n",
    "\n",
    "3%3 #modulo (remainder)\n",
    "```"
   ]
  },
  {
   "cell_type": "markdown",
   "metadata": {
    "heading_collapsed": true,
    "hidden": true
   },
   "source": [
    "### Conditionals"
   ]
  },
  {
   "cell_type": "markdown",
   "metadata": {
    "hidden": true
   },
   "source": [
    "``` python\n",
    "# asks a question and based on answer it takes one of several branching paths\n",
    "\n",
    "# discuss syntax (colons, = vs == vs !=)\n",
    "\n",
    "x = -100\n",
    "\n",
    "if x==5:\n",
    "    print(\"x equals 5\")\n",
    "elif x>5:\n",
    "    print(\"x is greater than 5\")\n",
    "else:\n",
    "    print(\"x is less than 5\") # print always returns NONE type\n",
    "    \n",
    "# operations that return booleans (true/false)\n",
    "# \"and\", \"or\", \"not\", \"in\"\n",
    "\n",
    "x1 = range(0,10) # inclusive vs exclusive\n",
    "\n",
    "ex1 = 5 in x1 and 7 in x1\n",
    "print(ex1)\n",
    "\n",
    "ex2 = 5 in x1 or 11 in x1\n",
    "print(ex2)\n",
    "\n",
    "ex3 = 11 not in x1 and 9 in x1\n",
    "print(ex3)\n",
    "```"
   ]
  },
  {
   "cell_type": "markdown",
   "metadata": {
    "heading_collapsed": true,
    "hidden": true
   },
   "source": [
    "### Repititions"
   ]
  },
  {
   "cell_type": "markdown",
   "metadata": {
    "hidden": true
   },
   "source": [
    "``` python\n",
    "# repeats instructions based on input\n",
    "\n",
    "# for loops (repeats instructions for a set number of iterations)\n",
    "\n",
    "a = [2,7,9]\n",
    "for i in range(len(a)):\n",
    "    print(i)\n",
    "    \n",
    "print(\"\")\n",
    "\n",
    "for value in a:\n",
    "    print(value)\n",
    "```"
   ]
  },
  {
   "cell_type": "code",
   "execution_count": 34,
   "metadata": {
    "hidden": true
   },
   "outputs": [
    {
     "name": "stdout",
     "output_type": "stream",
     "text": [
      "1\n",
      "2\n",
      "3\n",
      "4\n",
      "5\n"
     ]
    }
   ],
   "source": [
    "# while loops (repeats instructions for an unknown number of iteratios)\n",
    "\n",
    "b = 1\n",
    "\n",
    "while b<=5:\n",
    "    print(b)\n",
    "    b+=1\n",
    "    "
   ]
  },
  {
   "cell_type": "markdown",
   "metadata": {},
   "source": [
    "## Writing Functions"
   ]
  },
  {
   "cell_type": "markdown",
   "metadata": {},
   "source": [
    "```python\n",
    "# examples of functions already in python\n",
    "print('a')\n",
    "\n",
    "range(0,5)\n",
    "\n",
    "a = 7.3\n",
    "a = int(a)\n",
    "```"
   ]
  },
  {
   "cell_type": "markdown",
   "metadata": {},
   "source": [
    "``` python\n",
    "# you can also write your own functions\n",
    "\n",
    "def quadraticEquation(a, b, c):\n",
    "    x1 = (-b + (b**2 - 4*a*c)**0.5)/2/a\n",
    "    x2 = (-b - (b**2 - 4*a*c)**0.5)/2/a\n",
    "    return x1, x2 #returns as a tuple\n",
    "    \n",
    "a = 2.7\n",
    "b = 6\n",
    "c = -15.4\n",
    "    \n",
    "soln = quadraticEquation(a,b,c)\n",
    "print(soln)\n",
    "```"
   ]
  },
  {
   "cell_type": "markdown",
   "metadata": {
    "solution2": "hidden",
    "solution2_first": true
   },
   "source": [
    "Write a function called fizzbuzz that will take a list of integers as input and do the following:\n",
    "1. Replace all integers that are evenly divisible by 3 with \"fizz\"\n",
    "2. Replace all integers that are evenly divisible by 5 with \"buzz\"\n",
    "3. Replace all integers that are evenly divisible by both 3 and 5 with \"fizzbuzz\"\n",
    "\n",
    "For example:\n",
    "```python\n",
    "numbers = [45, 22, 14, 65, 97, 72]\n",
    "fizzbuzz(numbers)\n",
    "\n",
    "```\n",
    "output >>> ['fizzbuzz', 22, 14, 'buzz', 97, 'fizz']"
   ]
  },
  {
   "cell_type": "code",
   "execution_count": null,
   "metadata": {
    "solution2": "hidden"
   },
   "outputs": [],
   "source": [
    "# fizzbuzz EXAMPLE !!!!!!!!\n",
    "\n",
    "def fizzbuzzRangeLen(numbers):\n",
    "    for i in range(len(numbers)):\n",
    "        num = numbers[i]\n",
    "        if num%3 == 0:\n",
    "            numbers[i] = 'fizz'\n",
    "        if num%5 == 0:\n",
    "            numbers[i] = 'buzz'\n",
    "        if num%3 == 0 and num%5 == 0:\n",
    "            numbers[i] = 'fizzbuzz'\n",
    "    print(numbers)\n",
    "    \n",
    "def fizzbuzzEnumerate(numbers):\n",
    "    for i, num in enumerate(numbers):\n",
    "        if num % 3 == 0:\n",
    "            numbers[i] = 'fizz'\n",
    "        if num % 5 == 0:\n",
    "            numbers[i] = 'buzz'\n",
    "        if num % 3 == 0 and num % 5 == 0:\n",
    "            numbers[i] = 'fizzbuzz'\n",
    "    print(numbers)\n",
    "\n",
    "numbers1 = [45, 22, 14, 65, 97, 72]\n",
    "numbers2 = [45, 22, 14, 65, 97, 72]\n",
    "fizzbuzzRangeLen(numbers1)\n",
    "fizzbuzzEnumerate(numbers2)"
   ]
  },
  {
   "cell_type": "markdown",
   "metadata": {
    "solution": "hidden",
    "solution2": "hidden",
    "solution2_first": true,
    "solution_first": true
   },
   "source": [
    "Make a function called \"characterFrequency\" that takes in a single character and a word as parameters and calculates the character frequency in that word.\n",
    "For example:\n",
    "```python\n",
    "char = \"p\"\n",
    "word = \"apple\"\n",
    "characterFrequency(char, word)\n",
    "```\n",
    "output >>> 0.4\n"
   ]
  },
  {
   "cell_type": "code",
   "execution_count": null,
   "metadata": {},
   "outputs": [],
   "source": []
  },
  {
   "cell_type": "code",
   "execution_count": 4,
   "metadata": {
    "solution": "hidden",
    "solution2": "hidden"
   },
   "outputs": [
    {
     "name": "stdout",
     "output_type": "stream",
     "text": [
      "0.4\n"
     ]
    }
   ],
   "source": [
    "def characterFrequency(char, word):\n",
    "    counter = 0\n",
    "    for letter in word:\n",
    "        if letter == char:\n",
    "            counter += 1\n",
    "    frequency = counter/len(word)\n",
    "    print(frequency)\n",
    "\n",
    "char = 'p'\n",
    "word = 'apple'\n",
    "characterFrequency(char, word)"
   ]
  },
  {
   "cell_type": "markdown",
   "metadata": {
    "heading_collapsed": true
   },
   "source": [
    "## Using modules"
   ]
  },
  {
   "cell_type": "markdown",
   "metadata": {
    "hidden": true
   },
   "source": [
    "``` python\n",
    "from math import *   # import everything from math\n",
    "from math import sin # imports just the sin function from math\n",
    "import math          # imports math but doesn't separate method (function tied to module)\n",
    "                     # from the module (math.sin)\n",
    "```"
   ]
  },
  {
   "cell_type": "markdown",
   "metadata": {
    "heading_collapsed": true
   },
   "source": [
    "# Numpy Library"
   ]
  },
  {
   "cell_type": "markdown",
   "metadata": {
    "heading_collapsed": true,
    "hidden": true
   },
   "source": [
    "## Array and Vector creation"
   ]
  },
  {
   "cell_type": "code",
   "execution_count": 55,
   "metadata": {
    "hidden": true
   },
   "outputs": [
    {
     "name": "stdout",
     "output_type": "stream",
     "text": [
      "[1 3 5 7 9]\n",
      "[ 1.   3.5  6.   8.5 11. ]\n",
      "[[0. 0. 0.]\n",
      " [0. 1. 2.]\n",
      " [0. 2. 4.]]\n"
     ]
    }
   ],
   "source": [
    "import numpy as np\n",
    "\n",
    "myvector = np.array([1,2,3])\n",
    "myarray = np.array([[1,2,3],\n",
    "                    [4,5,6],\n",
    "                    [7,8,9]])\n",
    "\n",
    "myArange = np.arange(1,11,2) # inclusive, exlusive, step size\n",
    "print(myArange)\n",
    "\n",
    "mylinspace = np.linspace(1,11,5) # inclusive, inclusive, number of elements in vector\n",
    "print(mylinspace)\n",
    "\n",
    "row = 3\n",
    "column = 3\n",
    "myZerosArray = np.zeros((row,column))\n",
    "\n",
    "# when looping over arrays python goes over rows and then columns\n",
    "# indexing starts at zero!!\n",
    "for i in range(row):\n",
    "    for j in range(column):\n",
    "        myZerosArray[i,j] = i*j\n",
    "        \n",
    "print(myZerosArray)"
   ]
  },
  {
   "cell_type": "code",
   "execution_count": 2,
   "metadata": {
    "hidden": true
   },
   "outputs": [
    {
     "data": {
      "image/png": "[encoded data removed]",
      "text/plain": [
       "<Figure size 432x288 with 1 Axes>"
      ]
     },
     "metadata": {
      "needs_background": "light"
     },
     "output_type": "display_data"
    }
   ],
   "source": [
    "import numpy as np\n",
    "import matplotlib.pyplot as plt\n",
    "\n",
    "x = np.linspace(0,10)\n",
    "y = np.sin(x)\n",
    "\n",
    "plt.plot(x,y)\n",
    "plt.show()"
   ]
  }
 ],
 "metadata": {
  "kernelspec": {
   "display_name": "Python 3",
   "language": "python",
   "name": "python3"
  },
  "language_info": {
   "codemirror_mode": {
    "name": "ipython",
    "version": 3
   },
   "file_extension": ".py",
   "mimetype": "text/x-python",
   "name": "python",
   "nbconvert_exporter": "python",
   "pygments_lexer": "ipython3",
   "version": "3.8.5"
  },
  "toc": {
   "base_numbering": 1,
   "nav_menu": {},
   "number_sections": true,
   "sideBar": true,
   "skip_h1_title": false,
   "title_cell": "Table of Contents",
   "title_sidebar": "Contents",
   "toc_cell": false,
   "toc_position": {},
   "toc_section_display": true,
   "toc_window_display": false
  },
  "varInspector": {
   "cols": {
    "lenName": 16,
    "lenType": 16,
    "lenVar": 40
   },
   "kernels_config": {
    "python": {
     "delete_cmd_postfix": "",
     "delete_cmd_prefix": "del ",
     "library": "var_list.py",
     "varRefreshCmd": "print(var_dic_list())"
    },
    "r": {
     "delete_cmd_postfix": ") ",
     "delete_cmd_prefix": "rm(",
     "library": "var_list.r",
     "varRefreshCmd": "cat(var_dic_list()) "
    }
   },
   "position": {
    "height": "144.667px",
    "left": "919.111px",
    "right": "20px",
    "top": "194px",
    "width": "350px"
   },
   "types_to_exclude": [
    "module",
    "function",
    "builtin_function_or_method",
    "instance",
    "_Feature"
   ],
   "window_display": false
  }
 },
 "nbformat": 4,
 "nbformat_minor": 4
}
